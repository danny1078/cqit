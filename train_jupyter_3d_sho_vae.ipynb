{
 "cells": [
  {
   "cell_type": "code",
   "execution_count": 39,
   "id": "initial_id",
   "metadata": {
    "collapsed": true,
    "metadata": {},
    "ExecuteTime": {
     "end_time": "2024-05-04T16:11:32.204881600Z",
     "start_time": "2024-05-04T16:11:31.324469700Z"
    }
   },
   "outputs": [],
   "source": [
    "import torch\n",
    "import numpy as np\n",
    "\n",
    "from torch import nn\n",
    "\n",
    "from torch.utils.data import DataLoader, TensorDataset\n",
    "\n",
    "import torch.optim as optim\n",
    "\n",
    "from einops import rearrange\n",
    "from tqdm import tqdm\n",
    "\n",
    "from dataclasses import dataclass\n",
    "from generate_mass_spring_data import generate_mass_spring_data\n",
    "from loss import compute_mmd\n",
    "\n",
    "from matplotlib import pyplot as plt\n",
    "\n",
    "from generate_3d_sho import generate_3d_sho\n",
    "\n",
    "from sklearn.feature_selection import mutual_info_regression"
   ]
  },
  {
   "cell_type": "code",
   "execution_count": 40,
   "id": "8dd7375132486c16",
   "metadata": {
    "collapsed": false,
    "metadata": {},
    "ExecuteTime": {
     "end_time": "2024-05-04T16:11:32.838396900Z",
     "start_time": "2024-05-04T16:11:32.833282Z"
    }
   },
   "outputs": [],
   "source": [
    "@dataclass\n",
    "class TrainConfig:\n",
    "    num_epochs: int\n",
    "    batch_size: int\n",
    "    learning_rate: float\n",
    "    device: str\n",
    "    model: torch.nn.Module\n",
    "    optimizer: optim.Optimizer \n",
    "    train_loader: DataLoader\n",
    "    val_loader: DataLoader"
   ]
  },
  {
   "cell_type": "code",
   "execution_count": 41,
   "id": "1a2544bc2729ad6c",
   "metadata": {
    "collapsed": false,
    "metadata": {},
    "ExecuteTime": {
     "end_time": "2024-05-04T16:11:33.439707400Z",
     "start_time": "2024-05-04T16:11:33.435662200Z"
    }
   },
   "outputs": [],
   "source": [
    "def get_data_loaders(n_points: int, arr_size: int, batch_size: int = 32):\n",
    "    # set torch seed\n",
    "    torch.manual_seed(0)\n",
    "    samples = torch.zeros((arr_size, n_points, 3, 2))\n",
    "    for i in range(arr_size):\n",
    "        low = 1\n",
    "        high = 10\n",
    "        m, k = 1, torch.ones((3,1))\n",
    "        v0, x0 =  torch.randint(low, high, (2,3))\n",
    "        samples[i] = rearrange(torch.stack(generate_3d_sho(k, m, v0, x0, 0.1, n_points)), ' c b d -> b d c')\n",
    "    dataset = TensorDataset(samples)\n",
    "    train_ds, val_ds = torch.utils.data.random_split(dataset, [int(0.8*len(dataset)), int(0.2*len(dataset))])\n",
    "    return DataLoader(train_ds, batch_size=batch_size), DataLoader(val_ds, batch_size=batch_size)"
   ]
  },
  {
   "cell_type": "code",
   "execution_count": 42,
   "id": "bc869dc1a5210195",
   "metadata": {
    "collapsed": false,
    "metadata": {},
    "ExecuteTime": {
     "end_time": "2024-05-04T16:11:34.145693100Z",
     "start_time": "2024-05-04T16:11:33.942428300Z"
    }
   },
   "outputs": [],
   "source": [
    "train_dl, val_dl = get_data_loaders(100, 1000)"
   ]
  },
  {
   "cell_type": "code",
   "execution_count": 43,
   "id": "c08938a7",
   "metadata": {
    "metadata": {},
    "ExecuteTime": {
     "end_time": "2024-05-04T16:11:34.894000100Z",
     "start_time": "2024-05-04T16:11:34.888463300Z"
    }
   },
   "outputs": [
    {
     "name": "stdout",
     "output_type": "stream",
     "text": [
      "torch.Size([32, 100, 3, 2])\n"
     ]
    }
   ],
   "source": [
    "for i, data in enumerate(train_dl):\n",
    "    print(data[0].shape)\n",
    "    break"
   ]
  },
  {
   "cell_type": "code",
   "execution_count": 44,
   "id": "f2b6e28cc20d9f7c",
   "metadata": {
    "collapsed": false,
    "metadata": {},
    "ExecuteTime": {
     "end_time": "2024-05-04T16:11:36.313261Z",
     "start_time": "2024-05-04T16:11:36.310354500Z"
    }
   },
   "outputs": [],
   "source": [
    "def train(config: TrainConfig):\n",
    "    \n",
    "    model.to(config.device)\n",
    "    \n",
    "    losses = []\n",
    "    conservation_losses = []\n",
    "    reconstruction_losses = []\n",
    "    pbar = tqdm(range(config.num_epochs))\n",
    "    for epoch in pbar:\n",
    "        ep_losses = []\n",
    "        ep_conservation_losses = []\n",
    "        ep_reconstruction_losses = []\n",
    "        config.model.train()\n",
    "\n",
    "        for i, data in enumerate(config.train_loader):\n",
    "            orig_data = data[0].to(config.device)\n",
    "            b = orig_data.shape[0]\n",
    "            c = orig_data.shape[2]\n",
    "            formatted_data = rearrange(data[0], 'b s c d -> (b s) (c d)')\n",
    "            data = formatted_data.to(config.device)\n",
    "            encoder, decoder = config.model\n",
    "            z = encoder(data)\n",
    "            yhat = decoder(z)\n",
    "            z_rearr = rearrange(z, '(b s) c -> b s c', b=b)\n",
    "            z_0 = z_rearr[:, 0, :]\n",
    "            # calculate the difference between z at each time step and z at time step 0\n",
    "            z_diff = z_rearr - z_0[:, None, :]\n",
    "            # calculate the conservation loss as mse\n",
    "            conservation_loss = torch.mean(z_diff**2)\n",
    "            \n",
    "            #variance reconstruction loss\n",
    "            yhat_rearr = rearrange(yhat, '(b s) (c d) -> b s c d', b=b, c=c)\n",
    "            yhat_std = yhat_rearr.std(dim=1)\n",
    "            data_std = orig_data.std(dim=1)\n",
    "         \n",
    "            #if i % 100 == 0:\n",
    "            #    print(data_std[0], yhat_std[0])\n",
    "            reconstruction_loss = torch.mean((yhat_std - data_std)**2)\n",
    "            #reconstruction_loss = torch.mean((yhat - orig_data)**2)\n",
    "\n",
    "            loss = reconstruction_loss + conservation_loss\n",
    "            config.optimizer.zero_grad()\n",
    "            loss.backward(retain_graph=True)\n",
    "            ep_losses.append(loss.clone().item())\n",
    "            ep_conservation_losses.append(conservation_loss.clone().item())\n",
    "            ep_reconstruction_losses.append(reconstruction_loss.clone().item())\n",
    "            config.optimizer.step()\n",
    "        config.model.eval()\n",
    "        losses.append(np.mean(ep_losses))\n",
    "        conservation_losses.append(np.mean(ep_conservation_losses))\n",
    "        reconstruction_losses.append(np.mean(ep_reconstruction_losses))\n",
    "        # update progress bar\n",
    "        pbar.set_postfix({'loss': losses[-1], 'conservation_loss': conservation_losses[-1], 'reconstruction_loss': reconstruction_losses[-1]})\n",
    "    return config.model, losses, conservation_losses, reconstruction_losses"
   ]
  },
  {
   "cell_type": "code",
   "execution_count": 45,
   "id": "ea4fe2d763b7033d",
   "metadata": {
    "collapsed": false,
    "metadata": {},
    "ExecuteTime": {
     "end_time": "2024-05-04T16:11:38.361046700Z",
     "start_time": "2024-05-04T16:11:38.320353200Z"
    }
   },
   "outputs": [],
   "source": [
    "encoder = nn.Sequential(\n",
    "    nn.Linear(6, 20),\n",
    "    nn.Sigmoid(),\n",
    "    nn.Linear(20, 12),\n",
    "    nn.Sigmoid(),\n",
    "    nn.Linear(12, 2)\n",
    ")\n",
    "\n",
    "decoder = nn.Sequential(\n",
    "    nn.Linear(2, 6),\n",
    "    nn.ReLU(),\n",
    "    nn.Linear(6, 6),\n",
    "    nn.ReLU(),\n",
    "    nn.Linear(6, 6)\n",
    ")\n",
    "\n",
    "model = nn.Sequential(encoder, decoder)\n",
    "\n",
    "train_loader, val_loader = get_data_loaders(1000, arr_size=100, batch_size=32)\n",
    "\n",
    "config = TrainConfig(\n",
    "    num_epochs=5000,\n",
    "    batch_size=32,\n",
    "    learning_rate=0.001,\n",
    "    device='cuda',\n",
    "    model=model,\n",
    "    optimizer=optim.Adam(model.parameters(), lr=0.001, weight_decay=1e-5),\n",
    "    train_loader=train_loader,\n",
    "    val_loader=val_loader,\n",
    ")"
   ]
  },
  {
   "cell_type": "code",
   "execution_count": 46,
   "id": "c854e992aad76083",
   "metadata": {
    "collapsed": false,
    "metadata": {},
    "ExecuteTime": {
     "end_time": "2024-05-04T16:12:32.457307400Z",
     "start_time": "2024-05-04T16:11:58.695527800Z"
    }
   },
   "outputs": [
    {
     "name": "stderr",
     "output_type": "stream",
     "text": [
      "100%|██████████| 5000/5000 [00:33<00:00, 148.13it/s, loss=0.00994, conservation_loss=0.00663, reconstruction_loss=0.00332]\n"
     ]
    }
   ],
   "source": [
    "model, loss, conservation_loss, reconstruction_loss = train(config)"
   ]
  },
  {
   "cell_type": "code",
   "execution_count": 47,
   "id": "10dc938f57df7998",
   "metadata": {
    "collapsed": false,
    "ExecuteTime": {
     "end_time": "2024-05-04T16:13:51.643192Z",
     "start_time": "2024-05-04T16:13:51.638617400Z"
    }
   },
   "outputs": [],
   "source": [
    "def evaluate_model(model, data_loader, config):\n",
    "    \n",
    "    model = model.eval()\n",
    "    model.to(config.device)\n",
    "    losses = []\n",
    "    conservation_losses = []\n",
    "    reconstruction_losses = []\n",
    "    \n",
    "    for i, data in enumerate(data_loader):\n",
    "        orig_data = data[0].to(config.device)\n",
    "        b = orig_data.shape[0]\n",
    "        c = orig_data.shape[2]\n",
    "        \n",
    "        formatted_data = rearrange(data[0], 'b s c d -> (b s) (c d)')\n",
    "        data = formatted_data.to(config.device)\n",
    "        encoder, decoder = model\n",
    "        \n",
    "        z = encoder(data)\n",
    "        yhat = decoder(z)\n",
    "        z_rearr = rearrange(z, '(b s) c -> b s c', b=b)\n",
    "        z_0 = z_rearr[:, 0, :]\n",
    "        # calculate the difference between z at each time step and z at time step 0\n",
    "        z_diff = z_rearr - z_0[:, None, :]\n",
    "        # calculate the conservation loss as mse\n",
    "        conservation_loss = torch.mean(z_diff**2)\n",
    "        \n",
    "        #variance reconstruction loss\n",
    "        yhat_rearr = rearrange(yhat, '(b s) (c d) -> b s c d', b=b, c=c)\n",
    "        yhat_std = yhat_rearr.std(dim=1)\n",
    "        data_std = orig_data.std(dim=1)\n",
    "     \n",
    "        #if i % 100 == 0:\n",
    "        #    print(data_std[0], yhat_std[0])\n",
    "        reconstruction_loss = torch.mean((yhat_std - data_std)**2)\n",
    "        #reconstruction_loss = torch.mean((yhat - orig_data)**2)\n",
    "\n",
    "        loss = reconstruction_loss + 0.2 * conservation_loss\n",
    "        losses.append(loss.clone().item())\n",
    "        conservation_losses.append(conservation_loss.clone().item())\n",
    "        reconstruction_losses.append(reconstruction_loss.clone().item())\n",
    "    return np.mean(losses), np.mean(conservation_losses), np.mean(reconstruction_losses)"
   ]
  },
  {
   "cell_type": "code",
   "execution_count": 48,
   "id": "fe557f057ab51a58",
   "metadata": {
    "collapsed": false,
    "ExecuteTime": {
     "end_time": "2024-05-04T16:13:52.169480700Z",
     "start_time": "2024-05-04T16:13:52.162784400Z"
    }
   },
   "outputs": [],
   "source": [
    "test_loss, test_conservation_loss, test_reconstruction_loss = evaluate_model(model, val_loader, config)"
   ]
  },
  {
   "cell_type": "code",
   "execution_count": 49,
   "id": "300e6a0d65aa6003",
   "metadata": {
    "collapsed": false,
    "ExecuteTime": {
     "end_time": "2024-05-04T16:13:52.430669900Z",
     "start_time": "2024-05-04T16:13:52.426612600Z"
    }
   },
   "outputs": [
    {
     "name": "stdout",
     "output_type": "stream",
     "text": [
      "0.015531337819993496 0.006751110777258873 0.014181115664541721\n"
     ]
    }
   ],
   "source": [
    "print(test_loss, test_conservation_loss, test_reconstruction_loss)"
   ]
  },
  {
   "cell_type": "code",
   "execution_count": null,
   "id": "1006a73542a343b7",
   "metadata": {
    "ExecuteTime": {
     "end_time": "2024-05-03T17:21:46.802770400Z",
     "start_time": "2024-05-03T17:18:58.053293200Z"
    },
    "collapsed": false
   },
   "outputs": [
    {
     "name": "stderr",
     "output_type": "stream",
     "text": [
      "100%|██████████| 5000/5000 [00:33<00:00, 148.26it/s, loss=0.0486, conservation_loss=0.0126, reconstruction_loss=0.036] \n",
      "100%|██████████| 5000/5000 [00:33<00:00, 151.50it/s, loss=0.00716, conservation_loss=0.00555, reconstruction_loss=0.00162]\n",
      "100%|██████████| 5000/5000 [00:32<00:00, 152.91it/s, loss=0.0567, conservation_loss=0.00434, reconstruction_loss=0.0523]\n",
      "100%|██████████| 5000/5000 [00:32<00:00, 153.48it/s, loss=0.0615, conservation_loss=0.00338, reconstruction_loss=0.0581]\n",
      "100%|██████████| 5000/5000 [00:36<00:00, 136.16it/s, loss=0.0105, conservation_loss=0.00314, reconstruction_loss=0.00737] \n"
     ]
    }
   ],
   "source": [
    "total_losses, conservation_losses, reconstruction_losses = [], [], []\n",
    "for i in range(1,6):\n",
    "    encoder = nn.Sequential(\n",
    "        nn.Linear(6, 20),\n",
    "        nn.Sigmoid(),\n",
    "        nn.Linear(20, 12),\n",
    "        nn.Sigmoid(),\n",
    "        nn.Linear(12, i)\n",
    "    )\n",
    "    \n",
    "    decoder = nn.Sequential(\n",
    "        nn.Linear(i, 12),\n",
    "        nn.ReLU(),\n",
    "        nn.Linear(12, 12),\n",
    "        nn.ReLU(),\n",
    "        nn.Linear(12, 6)\n",
    "    )\n",
    "    model = nn.Sequential(encoder, decoder)\n",
    "    config = TrainConfig(\n",
    "        num_epochs=5000,\n",
    "        batch_size=32,\n",
    "        learning_rate=0.001,\n",
    "        device='cuda',\n",
    "        model=model,\n",
    "        optimizer=optim.Adam(model.parameters(), lr=0.001, weight_decay=1e-5),\n",
    "        train_loader=train_loader,\n",
    "        val_loader=val_loader,\n",
    "    )\n",
    "    model, loss, conservation_loss, reconstruction_loss = train(config)\n",
    "    test_loss, test_conservation_loss, test_reconstruction_loss = evaluate_model(model, val_loader, config)\n",
    "    total_losses.append(test_loss)\n",
    "    conservation_losses.append(test_conservation_loss)\n",
    "    reconstruction_losses.append(test_reconstruction_loss)"
   ]
  },
  {
   "cell_type": "code",
   "execution_count": null,
   "id": "dbe54f4b624d6be9",
   "metadata": {
    "ExecuteTime": {
     "end_time": "2024-05-03T17:21:59.340230700Z",
     "start_time": "2024-05-03T17:21:59.141785700Z"
    },
    "collapsed": false
   },
   "outputs": [
    {
     "data": {
      "image/png": "[encoded data removed]",
      "text/plain": [
       "<Figure size 1500x500 with 3 Axes>"
      ]
     },
     "metadata": {},
     "output_type": "display_data"
    }
   ],
   "source": [
    "latent_dims = range(1,6)\n",
    "fig, ax = plt.subplots(1,3, figsize=(15,5))\n",
    "ax[0].plot(latent_dims, total_losses)\n",
    "ax[0].set_title('Total Loss')\n",
    "ax[1].plot(latent_dims, conservation_losses)\n",
    "ax[1].set_title('Conservation Loss')\n",
    "ax[2].plot(latent_dims, reconstruction_losses)\n",
    "ax[2].set_title('Reconstruction Loss')\n",
    "plt.show()"
   ]
  },
  {
   "cell_type": "code",
   "execution_count": 56,
   "id": "d815b0fba842d23f",
   "metadata": {
    "collapsed": false,
    "ExecuteTime": {
     "end_time": "2024-05-04T16:18:04.925331800Z",
     "start_time": "2024-05-04T16:18:04.737943300Z"
    }
   },
   "outputs": [
    {
     "data": {
      "text/plain": "<Figure size 1000x1000 with 4 Axes>",
      "image/png": "[encoded data removed]"
     },
     "metadata": {},
     "output_type": "display_data"
    }
   ],
   "source": [
    "model = model.eval()\n",
    "x_test = torch.ones((1000,3))\n",
    "y_test = torch.zeros((1000,3))\n",
    "for i in range(1,10):\n",
    "    for j in range(1,10):\n",
    "        for k in range(1,10):\n",
    "            y_test[i+j+k] = torch.tensor([i,j,k])\n",
    "test = rearrange(torch.stack((x_test, y_test)), 'c b a -> b (c a)').to(config.device)\n",
    "zs = model[0](test).cpu()\n",
    "energy = 0.5 * torch.sum(y_test**2, dim=1) + 0.5 * torch.sum(x_test**2, dim=1)\n",
    "fig, ax = plt.subplots(2,2, figsize=(10,10))\n",
    "ax[0,0].scatter(energy, zs[:,0].detach().numpy(), label='z1')\n",
    "ax[0,1].scatter(energy, zs[:,1].detach().numpy(), label='z2')\n",
    "#ax[1,0].scatter(energy, zs[:,2].detach().numpy(), label='z3')\n",
    "#ax[1,1].scatter(energy, zs[:,3].detach().numpy(), label='z4')\n",
    "plt.show()\n",
    "\n",
    "\n"
   ]
  },
  {
   "cell_type": "code",
   "execution_count": null,
   "id": "534a70c369310457",
   "metadata": {
    "ExecuteTime": {
     "end_time": "2024-05-03T07:07:39.778178200Z",
     "start_time": "2024-05-03T07:07:39.758749300Z"
    },
    "collapsed": false
   },
   "outputs": [],
   "source": [
    "import scipy.constants as const"
   ]
  },
  {
   "cell_type": "code",
   "execution_count": null,
   "id": "74e59e266349b7a7",
   "metadata": {
    "ExecuteTime": {
     "end_time": "2024-05-03T07:21:01.127816500Z",
     "start_time": "2024-05-03T07:21:01.099236700Z"
    },
    "collapsed": false
   },
   "outputs": [
    {
     "data": {
      "text/plain": [
       "3.3526051877402376e-07"
      ]
     },
     "execution_count": 99,
     "metadata": {},
     "output_type": "execute_result"
    }
   ],
   "source": [
    "(8 * np.pi **  6 * (4.803e-10) ** 4 * 9.11e-28) / ((1.0546e-27) ** 2)"
   ]
  },
  {
   "cell_type": "code",
   "execution_count": 53,
   "id": "95a3dd825b14cde8",
   "metadata": {
    "collapsed": false,
    "ExecuteTime": {
     "end_time": "2024-05-04T16:17:22.847565800Z",
     "start_time": "2024-05-04T16:17:22.826148700Z"
    }
   },
   "outputs": [
    {
     "data": {
      "text/plain": "array([0.09202829, 0.09160492])"
     },
     "execution_count": 53,
     "metadata": {},
     "output_type": "execute_result"
    }
   ],
   "source": [
    "#Evaluate Mutual Info in 3-D Case\n",
    "model = model.eval()\n",
    "x_test = torch.ones((1000,3))\n",
    "y_test = torch.zeros((1000,3))\n",
    "for i in range(1,10):\n",
    "    for j in range(1,10):\n",
    "        for k in range(1,10):\n",
    "            y_test[i+j+k] = torch.tensor([i,j,k])\n",
    "test = rearrange(torch.stack((x_test, y_test)), 'c b a -> b (c a)').to(config.device)\n",
    "zs = model[0](test).cpu()\n",
    "energy = 0.5 * torch.sum(y_test**2, dim=1) + 0.5 * torch.sum(x_test**2, dim=1)\n",
    "mutual_info_regression(zs.detach().numpy(),energy.detach().numpy())"
   ]
  },
  {
   "cell_type": "code",
   "execution_count": 55,
   "id": "4b57d4a5",
   "metadata": {
    "ExecuteTime": {
     "end_time": "2024-05-04T16:17:35.901590700Z",
     "start_time": "2024-05-04T16:17:35.887324400Z"
    }
   },
   "outputs": [
    {
     "data": {
      "text/plain": "torch.Size([1000, 2])"
     },
     "execution_count": 55,
     "metadata": {},
     "output_type": "execute_result"
    }
   ],
   "source": [
    "zs.shape"
   ]
  },
  {
   "cell_type": "code",
   "execution_count": null,
   "outputs": [],
   "source": [],
   "metadata": {
    "collapsed": false
   },
   "id": "b0574e00b58ad049"
  }
 ],
 "metadata": {
  "kernelspec": {
   "display_name": "Python 3",
   "language": "python",
   "name": "python3"
  },
  "language_info": {
   "codemirror_mode": {
    "name": "ipython",
    "version": 3
   },
   "file_extension": ".py",
   "mimetype": "text/x-python",
   "name": "python",
   "nbconvert_exporter": "python",
   "pygments_lexer": "ipython3",
   "version": "3.11.6"
  }
 },
 "nbformat": 4,
 "nbformat_minor": 5
}
