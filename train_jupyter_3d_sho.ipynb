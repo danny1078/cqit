{
 "cells": [
  {
   "cell_type": "code",
   "execution_count": 34,
   "id": "initial_id",
   "metadata": {
    "metadata": {},
    "ExecuteTime": {
     "end_time": "2024-05-05T19:56:01.862740900Z",
     "start_time": "2024-05-05T19:56:01.859178300Z"
    }
   },
   "outputs": [],
   "source": [
    "import torch\n",
    "import numpy as np\n",
    "\n",
    "from torch import nn\n",
    "\n",
    "from torch.utils.data import DataLoader, TensorDataset\n",
    "\n",
    "import torch.optim as optim\n",
    "\n",
    "from einops import rearrange\n",
    "from tqdm import tqdm\n",
    "\n",
    "from dataclasses import dataclass\n",
    "from generate_mass_spring_data import generate_mass_spring_data\n",
    "from loss import compute_mmd\n",
    "\n",
    "from matplotlib import pyplot as plt\n",
    "\n",
    "from generate_3d_sho import generate_3d_sho\n",
    "\n",
    "from sklearn.feature_selection import mutual_info_regression"
   ]
  },
  {
   "cell_type": "code",
   "execution_count": 35,
   "id": "8dd7375132486c16",
   "metadata": {
    "collapsed": false,
    "metadata": {},
    "ExecuteTime": {
     "end_time": "2024-05-05T19:56:02.440246100Z",
     "start_time": "2024-05-05T19:56:02.435714400Z"
    }
   },
   "outputs": [],
   "source": [
    "@dataclass\n",
    "class TrainConfig:\n",
    "    num_epochs: int\n",
    "    batch_size: int\n",
    "    learning_rate: float\n",
    "    device: str\n",
    "    model: torch.nn.Module\n",
    "    optimizer: optim.Optimizer \n",
    "    train_loader: DataLoader\n",
    "    val_loader: DataLoader"
   ]
  },
  {
   "cell_type": "code",
   "execution_count": 39,
   "id": "1a2544bc2729ad6c",
   "metadata": {
    "collapsed": false,
    "metadata": {},
    "ExecuteTime": {
     "end_time": "2024-05-06T01:51:23.651550500Z",
     "start_time": "2024-05-06T01:51:23.646233400Z"
    }
   },
   "outputs": [],
   "source": [
    "def get_data_loaders(n_points: int, arr_size: int, batch_size: int = 32):\n",
    "    # Set the seed for reproducibility\n",
    "    torch.manual_seed(0)\n",
    "\n",
    "    # Initialize an empty tensor to hold the samples\n",
    "    samples = torch.zeros((arr_size, n_points, 3, 2))\n",
    "    \n",
    "    # Generate data samples\n",
    "    for i in range(arr_size):\n",
    "        low, high = 1, 10\n",
    "        m, k = 1, torch.ones((3,1))\n",
    "        v0, x0 = torch.randint(low, high, (2,3))\n",
    "        samples[i] = rearrange(torch.stack(generate_3d_sho(k, m, v0, x0, 0.1, n_points)), 'c b d -> b d c')\n",
    "    \n",
    "    # Create a dataset from the samples tensor\n",
    "    dataset = TensorDataset(samples)\n",
    "\n",
    "    # Split dataset into training and validation datasets\n",
    "    train_ds, val_ds = torch.utils.data.random_split(dataset, [int(0.8 * len(dataset)), int(0.2 * len(dataset))])\n",
    "\n",
    "    # Calculate the mean and standard deviation for normalization\n",
    "    train_mean = train_ds.dataset.tensors[0].mean()\n",
    "    train_std = train_ds.dataset.tensors[0].std()\n",
    "\n",
    "    # Normalize the training and validation datasets\n",
    "    #for ds in (train_ds, val_ds):\n",
    "    #    ds.dataset.tensors = ((ds.dataset.tensors[0] - train_mean) / train_std,)\n",
    "\n",
    "    # Create dataloaders for the training and validation datasets\n",
    "    train_loader = DataLoader(train_ds, batch_size=batch_size, shuffle=True)\n",
    "    val_loader = DataLoader(val_ds, batch_size=batch_size, shuffle=False)\n",
    "    \n",
    "    return train_mean, train_std, samples, train_loader, val_loader"
   ]
  },
  {
   "cell_type": "code",
   "execution_count": 40,
   "id": "bc869dc1a5210195",
   "metadata": {
    "collapsed": false,
    "metadata": {},
    "ExecuteTime": {
     "end_time": "2024-05-06T01:51:23.961639100Z",
     "start_time": "2024-05-06T01:51:23.764564300Z"
    }
   },
   "outputs": [],
   "source": [
    "train_mean, train_std, samples, train_dl, val_dl = get_data_loaders(100, 1000)"
   ]
  },
  {
   "cell_type": "code",
   "execution_count": 51,
   "id": "f2b6e28cc20d9f7c",
   "metadata": {
    "collapsed": false,
    "metadata": {},
    "ExecuteTime": {
     "end_time": "2024-05-06T01:53:05.826698Z",
     "start_time": "2024-05-06T01:53:05.817194800Z"
    }
   },
   "outputs": [],
   "source": [
    "def train(config: TrainConfig):\n",
    "    \n",
    "    model.to(config.device)\n",
    "    \n",
    "    losses = []\n",
    "    conservation_losses = []\n",
    "    reconstruction_losses = []\n",
    "    pbar = tqdm(range(config.num_epochs))\n",
    "    for epoch in pbar:\n",
    "        ep_losses = []\n",
    "        ep_conservation_losses = []\n",
    "        ep_reconstruction_losses = []\n",
    "        config.model.train()\n",
    "\n",
    "        for i, data in enumerate(config.train_loader):\n",
    "            orig_data = data[0].to(config.device)\n",
    "            b = orig_data.shape[0]\n",
    "            c = orig_data.shape[2] * 2\n",
    "            formatted_data = rearrange(data[0], 'b s c d -> (b s) (c d)')\n",
    "            data = formatted_data.to(config.device)\n",
    "            encoder, decoder = config.model\n",
    "            z = encoder(data)\n",
    "            yhat = decoder(z)\n",
    "            z_rearr = rearrange(z, '(b s) c -> b s c', b=b)\n",
    "            z_0 = z_rearr[:, 0, :]\n",
    "            # calculate the difference between z at each time step and z at time step 0\n",
    "            z_diff = z_rearr - z_0[:, None, :]\n",
    "            # calculate the conservation loss as mse\n",
    "            conservation_loss = torch.mean(z_diff**2)\n",
    "            \n",
    "            #variance reconstruction loss\n",
    "            yhat_std = rearrange(yhat, '(b s) (c d) -> b s c d', b=b, c=c)\n",
    "            data_std = rearrange(orig_data.std(dim=1), 'b c d -> b 1 c d')\n",
    "            data_mean = rearrange(orig_data.mean(dim=1), 'b c d -> b 1 c d')\n",
    "            \n",
    "            targets = torch.cat((data_mean, data_std), dim=2)\n",
    "            #if i % 100 == 0:\n",
    "            #    print(data_std[0], yhat_std[0])\n",
    "            reconstruction_loss = torch.mean((yhat_std - targets)**2)\n",
    "            #reconstruction_loss = torch.mean((yhat - orig_data)**2)\n",
    "\n",
    "            loss = reconstruction_loss + 10 * conservation_loss\n",
    "            config.optimizer.zero_grad()\n",
    "            loss.backward(retain_graph=True)\n",
    "            ep_losses.append(loss.clone().item())\n",
    "            ep_conservation_losses.append(conservation_loss.clone().item())\n",
    "            ep_reconstruction_losses.append(reconstruction_loss.clone().item())\n",
    "            config.optimizer.step()\n",
    "        config.model.eval()\n",
    "        losses.append(np.mean(ep_losses))\n",
    "        conservation_losses.append(np.mean(ep_conservation_losses))\n",
    "        reconstruction_losses.append(np.mean(ep_reconstruction_losses))\n",
    "        # update progress bar\n",
    "        pbar.set_postfix({'loss': losses[-1], 'conservation_loss': conservation_losses[-1], 'reconstruction_loss': reconstruction_losses[-1]})\n",
    "    return config.model, losses, conservation_losses, reconstruction_losses"
   ]
  },
  {
   "cell_type": "code",
   "execution_count": 52,
   "id": "c08938a7",
   "metadata": {
    "metadata": {},
    "ExecuteTime": {
     "end_time": "2024-05-06T01:53:08.856865500Z",
     "start_time": "2024-05-06T01:53:08.854861300Z"
    }
   },
   "outputs": [
    {
     "name": "stdout",
     "output_type": "stream",
     "text": [
      "torch.Size([32, 100, 3, 2])\n"
     ]
    }
   ],
   "source": [
    "for i, data in enumerate(train_dl):\n",
    "    print(data[0].shape)\n",
    "    break"
   ]
  },
  {
   "cell_type": "code",
   "execution_count": 53,
   "id": "10dc938f57df7998",
   "metadata": {
    "collapsed": false,
    "ExecuteTime": {
     "end_time": "2024-05-06T01:53:09.502503200Z",
     "start_time": "2024-05-06T01:53:09.499720Z"
    }
   },
   "outputs": [],
   "source": [
    "def evaluate_model(model, data_loader, config):\n",
    "    \n",
    "    model = model.eval()\n",
    "    model.to(config.device)\n",
    "    losses = []\n",
    "    conservation_losses = []\n",
    "    reconstruction_losses = []\n",
    "    \n",
    "    for i, data in enumerate(data_loader):\n",
    "        orig_data = data[0].to(config.device)\n",
    "        b = orig_data.shape[0]\n",
    "        c = orig_data.shape[2] * 2\n",
    "        \n",
    "        formatted_data = rearrange(data[0], 'b s c d -> (b s) (c d)')\n",
    "        data = formatted_data.to(config.device)\n",
    "        encoder, decoder = model\n",
    "        \n",
    "        z = encoder(data)\n",
    "        yhat = decoder(z)\n",
    "        z_rearr = rearrange(z, '(b s) c -> b s c', b=b)\n",
    "        z_0 = z_rearr[:, 0, :]\n",
    "        # calculate the difference between z at each time step and z at time step 0\n",
    "        z_diff = z_rearr - z_0[:, None, :]\n",
    "        # calculate the conservation loss as mse\n",
    "        conservation_loss = torch.mean(z_diff**2)\n",
    "        \n",
    "        #variance reconstruction loss\n",
    "        yhat_std = rearrange(yhat, '(b s) (c d) -> b s c d', b=b, c=c)\n",
    "        data_mean = rearrange(orig_data.mean(dim=1), 'b c d -> b 1 c d')\n",
    "        data_std = rearrange(orig_data.std(dim=1), 'b c d -> b 1 c d')\n",
    "        targets = torch.cat((data_mean, data_std), dim=2)\n",
    "     \n",
    "        #if i % 100 == 0:\n",
    "        #    print(data_std[0], yhat_std[0])\n",
    "        reconstruction_loss = torch.mean((yhat_std - targets)**2)\n",
    "        #reconstruction_loss = torch.mean((yhat - orig_data)**2)\n",
    "\n",
    "        loss = reconstruction_loss + conservation_loss\n",
    "        losses.append(loss.clone().item())\n",
    "        conservation_losses.append(conservation_loss.clone().item())\n",
    "        reconstruction_losses.append(reconstruction_loss.clone().item())\n",
    "    return np.mean(losses), np.mean(conservation_losses), np.mean(reconstruction_losses)"
   ]
  },
  {
   "cell_type": "markdown",
   "source": [
    "## Dimension plots area"
   ],
   "metadata": {
    "collapsed": false
   },
   "id": "de9f49535905dad8"
  },
  {
   "cell_type": "code",
   "execution_count": 54,
   "id": "ea4fe2d763b7033d",
   "metadata": {
    "collapsed": false,
    "metadata": {},
    "ExecuteTime": {
     "end_time": "2024-05-06T01:53:10.155907800Z",
     "start_time": "2024-05-06T01:53:10.127066400Z"
    }
   },
   "outputs": [],
   "source": [
    "encoder = nn.Sequential(\n",
    "    nn.Linear(6, 20),\n",
    "    nn.Sigmoid(),\n",
    "    nn.Linear(20, 12),\n",
    "    nn.Sigmoid(),\n",
    "    nn.Linear(12, 2)\n",
    ")\n",
    "\n",
    "decoder = nn.Sequential(\n",
    "    nn.Linear(2, 6),\n",
    "    nn.ReLU(),\n",
    "    nn.Linear(6, 6),\n",
    "    nn.ReLU(),\n",
    "    nn.Linear(6, 12)\n",
    ")\n",
    "\n",
    "model = nn.Sequential(encoder, decoder)\n",
    "\n",
    "_, _, _, train_loader, val_loader = get_data_loaders(1000, arr_size=100, batch_size=32)\n",
    "\n",
    "config = TrainConfig(\n",
    "    num_epochs=5000,\n",
    "    batch_size=32,\n",
    "    learning_rate=0.001,\n",
    "    device='cuda',\n",
    "    model=model,\n",
    "    optimizer=optim.Adam(model.parameters(), lr=0.001, weight_decay=1e-5),\n",
    "    train_loader=train_loader,\n",
    "    val_loader=val_loader,\n",
    ")"
   ]
  },
  {
   "cell_type": "code",
   "execution_count": 55,
   "id": "c854e992aad76083",
   "metadata": {
    "collapsed": false,
    "metadata": {},
    "ExecuteTime": {
     "end_time": "2024-05-06T01:53:10.694394700Z",
     "start_time": "2024-05-06T01:53:10.660684500Z"
    }
   },
   "outputs": [
    {
     "name": "stderr",
     "output_type": "stream",
     "text": [
      "  0%|          | 0/5000 [00:00<?, ?it/s]\n"
     ]
    },
    {
     "ename": "RuntimeError",
     "evalue": "The size of tensor a (1000) must match the size of tensor b (32) at non-singleton dimension 1",
     "output_type": "error",
     "traceback": [
      "\u001B[1;31m---------------------------------------------------------------------------\u001B[0m",
      "\u001B[1;31mRuntimeError\u001B[0m                              Traceback (most recent call last)",
      "Cell \u001B[1;32mIn[55], line 1\u001B[0m\n\u001B[1;32m----> 1\u001B[0m model, loss, conservation_loss, reconstruction_loss \u001B[38;5;241m=\u001B[39m train(config)\n",
      "Cell \u001B[1;32mIn[51], line 35\u001B[0m, in \u001B[0;36mtrain\u001B[1;34m(config)\u001B[0m\n\u001B[0;32m     33\u001B[0m data_std \u001B[38;5;241m=\u001B[39m rearrange(orig_data\u001B[38;5;241m.\u001B[39mstd(dim\u001B[38;5;241m=\u001B[39m\u001B[38;5;241m1\u001B[39m), \u001B[38;5;124m'\u001B[39m\u001B[38;5;124mb c d -> b 1 c d\u001B[39m\u001B[38;5;124m'\u001B[39m)\n\u001B[0;32m     34\u001B[0m data_mean \u001B[38;5;241m=\u001B[39m rearrange(orig_data\u001B[38;5;241m.\u001B[39mmean(dim\u001B[38;5;241m=\u001B[39m\u001B[38;5;241m1\u001B[39m), \u001B[38;5;124m'\u001B[39m\u001B[38;5;124mb c d -> b 1 c d\u001B[39m\u001B[38;5;124m'\u001B[39m)\n\u001B[1;32m---> 35\u001B[0m data_diffs \u001B[38;5;241m=\u001B[39m orig_data \u001B[38;5;241m-\u001B[39m orig_data\u001B[38;5;241m.\u001B[39mmean(dim\u001B[38;5;241m=\u001B[39m\u001B[38;5;241m1\u001B[39m)\n\u001B[0;32m     36\u001B[0m var \u001B[38;5;241m=\u001B[39m torch\u001B[38;5;241m.\u001B[39mmean(torch\u001B[38;5;241m.\u001B[39mpow(data_diffs, \u001B[38;5;241m2.0\u001B[39m))\n\u001B[0;32m     37\u001B[0m std \u001B[38;5;241m=\u001B[39m torch\u001B[38;5;241m.\u001B[39mpow(var, \u001B[38;5;241m0.5\u001B[39m)\n",
      "\u001B[1;31mRuntimeError\u001B[0m: The size of tensor a (1000) must match the size of tensor b (32) at non-singleton dimension 1"
     ]
    }
   ],
   "source": [
    "model, loss, conservation_loss, reconstruction_loss = train(config)"
   ]
  },
  {
   "cell_type": "code",
   "execution_count": 11,
   "id": "fe557f057ab51a58",
   "metadata": {
    "collapsed": false,
    "ExecuteTime": {
     "end_time": "2024-05-05T17:47:06.476950200Z",
     "start_time": "2024-05-05T17:47:06.468883800Z"
    }
   },
   "outputs": [],
   "source": [
    "test_loss, test_conservation_loss, test_reconstruction_loss = evaluate_model(model, val_loader, config)"
   ]
  },
  {
   "cell_type": "code",
   "execution_count": 12,
   "id": "300e6a0d65aa6003",
   "metadata": {
    "collapsed": false,
    "ExecuteTime": {
     "end_time": "2024-05-05T17:47:06.822827100Z",
     "start_time": "2024-05-05T17:47:06.821325200Z"
    }
   },
   "outputs": [
    {
     "name": "stdout",
     "output_type": "stream",
     "text": [
      "1.2483257055282593 0.00012288079597055912 1.2482028007507324\n"
     ]
    }
   ],
   "source": [
    "print(test_loss, test_conservation_loss, test_reconstruction_loss)"
   ]
  },
  {
   "cell_type": "code",
   "execution_count": 13,
   "id": "1006a73542a343b7",
   "metadata": {
    "collapsed": false,
    "ExecuteTime": {
     "end_time": "2024-05-05T17:50:40.856174800Z",
     "start_time": "2024-05-05T17:47:11.093768900Z"
    }
   },
   "outputs": [
    {
     "name": "stderr",
     "output_type": "stream",
     "text": [
      "100%|██████████| 5000/5000 [00:33<00:00, 147.79it/s, loss=0.884, conservation_loss=0.000408, reconstruction_loss=0.88] \n",
      "100%|██████████| 5000/5000 [00:35<00:00, 141.88it/s, loss=0.41, conservation_loss=0.000666, reconstruction_loss=0.403] \n",
      "100%|██████████| 5000/5000 [00:35<00:00, 141.29it/s, loss=0.525, conservation_loss=4.77e-5, reconstruction_loss=0.524] \n",
      "100%|██████████| 5000/5000 [00:34<00:00, 146.03it/s, loss=0.0118, conservation_loss=0.000186, reconstruction_loss=0.0099] \n",
      "100%|██████████| 5000/5000 [00:35<00:00, 140.89it/s, loss=0.338, conservation_loss=0.000696, reconstruction_loss=0.331]\n",
      "100%|██████████| 5000/5000 [00:35<00:00, 140.71it/s, loss=0.521, conservation_loss=6.34e-5, reconstruction_loss=0.521] \n"
     ]
    }
   ],
   "source": [
    "total_losses, conservation_losses, reconstruction_losses = [], [], []\n",
    "for i in range(1,7):\n",
    "    encoder = nn.Sequential(\n",
    "        nn.Linear(6, 20),\n",
    "        nn.Sigmoid(),\n",
    "        nn.Linear(20, 12),\n",
    "        nn.Sigmoid(),\n",
    "        nn.Linear(12, i)\n",
    "    )\n",
    "    \n",
    "    decoder = nn.Sequential(\n",
    "        nn.Linear(i, 12),\n",
    "        nn.ReLU(),\n",
    "        nn.Linear(12, 12),\n",
    "        nn.ReLU(),\n",
    "        nn.Linear(12, 12)\n",
    "    )\n",
    "    model = nn.Sequential(encoder, decoder)\n",
    "    config = TrainConfig(\n",
    "        num_epochs=5000,\n",
    "        batch_size=32,\n",
    "        learning_rate=0.001,\n",
    "        device='cuda',\n",
    "        model=model,\n",
    "        optimizer=optim.Adam(model.parameters(), lr=0.001, weight_decay=1e-5),\n",
    "        train_loader=train_loader,\n",
    "        val_loader=val_loader,\n",
    "    )\n",
    "    model, loss, conservation_loss, reconstruction_loss = train(config)\n",
    "    test_loss, test_conservation_loss, test_reconstruction_loss = evaluate_model(model, val_loader, config)\n",
    "    total_losses.append(test_loss)\n",
    "    conservation_losses.append(test_conservation_loss)\n",
    "    reconstruction_losses.append(test_reconstruction_loss)"
   ]
  },
  {
   "cell_type": "code",
   "execution_count": 14,
   "id": "dbe54f4b624d6be9",
   "metadata": {
    "collapsed": false,
    "ExecuteTime": {
     "end_time": "2024-05-05T17:50:51.408099800Z",
     "start_time": "2024-05-05T17:50:51.192346100Z"
    }
   },
   "outputs": [
    {
     "data": {
      "text/plain": "<Figure size 1500x500 with 3 Axes>",
      "image/png": "[encoded data removed]"
     },
     "metadata": {},
     "output_type": "display_data"
    }
   ],
   "source": [
    "latent_dims = range(1,7)\n",
    "fig, ax = plt.subplots(1,3, figsize=(15,5))\n",
    "ax[0].plot(latent_dims, total_losses)\n",
    "ax[0].set_title('Total Loss')\n",
    "ax[1].plot(latent_dims, conservation_losses)\n",
    "ax[1].set_title('Conservation Loss')\n",
    "ax[2].plot(latent_dims, reconstruction_losses)\n",
    "ax[2].set_title('Reconstruction Loss')\n",
    "for a in ax:\n",
    "    a.set_xlabel('Latent Dimension')\n",
    "    a.set_ylabel('Loss')\n",
    "plt.tight_layout()\n",
    "plt.show()"
   ]
  },
  {
   "cell_type": "markdown",
   "id": "5ac916e576207802",
   "metadata": {
    "collapsed": false
   },
   "source": [
    "model = model.eval()\n",
    "x_test = torch.ones((1000,3))\n",
    "y_test = torch.zeros((1000,3))\n",
    "for i in range(1,10):\n",
    "    for j in range(1,10):\n",
    "        for k in range(1,10):\n",
    "            y_test[i+j+k] = torch.tensor([i,j,k])\n",
    "test = rearrange(torch.stack((x_test, y_test)), 'c b a -> b (c a)').to(config.device)\n",
    "zs = model[0](test).cpu()\n",
    "energy = 0.5 * torch.sum(y_test**2, dim=1) + 0.5 * torch.sum(x_test**2, dim=1)\n",
    "fig, ax = plt.subplots(2,2, figsize=(10,10))\n",
    "ax[0,0].scatter(energy, zs[:,0].detach().numpy(), label='z1')\n",
    "ax[0,1].scatter(energy, zs[:,1].detach().numpy(), label='z2')\n",
    "#ax[1,0].scatter(energy, zs[:,2].detach().numpy(), label='z3')\n",
    "#ax[1,1].scatter(energy, zs[:,3].detach().numpy(), label='z4')\n",
    "plt.show()\n",
    "\n",
    "\n"
   ]
  },
  {
   "cell_type": "code",
   "execution_count": 12,
   "id": "534a70c369310457",
   "metadata": {
    "collapsed": false,
    "ExecuteTime": {
     "end_time": "2024-05-05T04:35:58.218432300Z",
     "start_time": "2024-05-05T04:35:58.211926300Z"
    }
   },
   "outputs": [],
   "source": [
    "import scipy.constants as const"
   ]
  },
  {
   "cell_type": "code",
   "execution_count": 13,
   "id": "74e59e266349b7a7",
   "metadata": {
    "collapsed": false,
    "ExecuteTime": {
     "end_time": "2024-05-05T04:35:58.636662700Z",
     "start_time": "2024-05-05T04:35:58.631011600Z"
    }
   },
   "outputs": [
    {
     "data": {
      "text/plain": "3.3526051877402376e-07"
     },
     "execution_count": 13,
     "metadata": {},
     "output_type": "execute_result"
    }
   ],
   "source": [
    "(8 * np.pi **  6 * (4.803e-10) ** 4 * 9.11e-28) / ((1.0546e-27) ** 2)"
   ]
  },
  {
   "cell_type": "markdown",
   "id": "2ff2976022d98ee4",
   "metadata": {
    "collapsed": false
   },
   "source": [
    "## Conserved Quantities Check"
   ]
  },
  {
   "cell_type": "code",
   "execution_count": 28,
   "id": "c45e461be1de79ca",
   "metadata": {
    "collapsed": false,
    "ExecuteTime": {
     "end_time": "2024-05-05T19:06:39.720361200Z",
     "start_time": "2024-05-05T19:00:06.658239600Z"
    }
   },
   "outputs": [
    {
     "name": "stderr",
     "output_type": "stream",
     "text": [
      "100%|██████████| 50000/50000 [06:33<00:00, 127.22it/s, loss=0.00761, conservation_loss=4.31e-5, reconstruction_loss=0.00718] \n"
     ]
    }
   ],
   "source": [
    "encoder = nn.Sequential(\n",
    "    nn.Linear(6, 20),\n",
    "    nn.Sigmoid(),\n",
    "    nn.Linear(20, 12),\n",
    "    nn.Sigmoid(),\n",
    "    nn.Linear(12, 4)\n",
    ")\n",
    "\n",
    "decoder = nn.Sequential(\n",
    "    nn.Linear(4, 12),\n",
    "    nn.ReLU(),\n",
    "    nn.Linear(12, 12),\n",
    "    nn.ReLU(),\n",
    "    nn.Linear(12, 12)\n",
    ")\n",
    "\n",
    "model = nn.Sequential(encoder, decoder)\n",
    "\n",
    "train_mean, train_std, samples, train_loader, val_loader = get_data_loaders(1000, arr_size=100, batch_size=32)\n",
    "\n",
    "config = TrainConfig(\n",
    "    num_epochs=50000,\n",
    "    batch_size=32,\n",
    "    learning_rate=0.001,\n",
    "    device='cuda',\n",
    "    model=model,\n",
    "    optimizer=optim.Adam(model.parameters(), lr=0.001, weight_decay=1e-5),\n",
    "    train_loader=train_loader,\n",
    "    val_loader=val_loader,\n",
    ")\n",
    "model, loss, conservation_loss, reconstruction_loss = train(config)"
   ]
  },
  {
   "cell_type": "code",
   "execution_count": 30,
   "outputs": [
    {
     "data": {
      "text/plain": "array([0.1103913 , 0.14803573, 0.13658284, 0.11274422])"
     },
     "execution_count": 30,
     "metadata": {},
     "output_type": "execute_result"
    }
   ],
   "source": [
    "#Evaluate Mutual Info in 3-D Case\n",
    "model = model.eval()\n",
    "x_test = torch.ones((1000,3))\n",
    "y_test = torch.zeros((1000,3))\n",
    "for i in range(1,10):\n",
    "    for j in range(1,10):\n",
    "        for k in range(1,10):\n",
    "            y_test[i+j+k] = torch.tensor([i,j,k])\n",
    "test = rearrange(torch.stack((x_test, y_test)), 'c b a -> b (c a)').to(config.device)\n",
    "zs = model[0](test).cpu()\n",
    "energy = 0.5 * torch.sum(y_test**2, dim=1) + 0.5 * torch.sum(x_test**2, dim=1)\n",
    "mutual_info_regression(zs.detach().numpy(),energy.detach().numpy(), discrete_features=False)"
   ],
   "metadata": {
    "collapsed": false,
    "ExecuteTime": {
     "end_time": "2024-05-05T19:10:15.119098600Z",
     "start_time": "2024-05-05T19:10:15.088337Z"
    }
   },
   "id": "39d2fee07b0fb540"
  },
  {
   "cell_type": "code",
   "execution_count": 31,
   "id": "b0574e00b58ad049",
   "metadata": {
    "collapsed": false,
    "scrolled": true,
    "ExecuteTime": {
     "end_time": "2024-05-05T19:29:30.138588Z",
     "start_time": "2024-05-05T19:29:30.127753300Z"
    }
   },
   "outputs": [],
   "source": [
    "from threed_sho_conserved_qts import energy_angular_momentum\n",
    "\n",
    "# Prepare data\n",
    "data = samples.to(config.device).detach().clone()\n",
    "data = rearrange(data, 'b s c d -> (b s) (c d)')\n",
    "\n",
    "# Calculate ground truth energy and angular momentum\n",
    "gnd_truth_energy, gnd_truth_ang_mom = energy_angular_momentum(data[:,:3], data[:,3:], 1, 1)\n",
    "\n",
    "# Use the model to predict 'z_samples'\n",
    "model.eval()\n",
    "z_samples = model[0](data).detach().clone()\n",
    "\n",
    "# Combine ground truth values into one tensor\n",
    "targets = torch.cat((gnd_truth_energy, gnd_truth_ang_mom), dim=1)\n",
    "\n",
    "# Create a dataset from the model's predictions and the targets\n",
    "z_dataset = TensorDataset(z_samples, targets)\n",
    "\n",
    "# Split dataset into training and validation datasets\n",
    "z_train_ds, z_val_ds = torch.utils.data.random_split(z_dataset, [int(0.08*len(z_dataset)), int(0.92*len(z_dataset))])\n",
    "\n",
    "# Normalize the z_samples\n",
    "train_z_mean = z_train_ds.dataset[:][0].mean()\n",
    "train_z_std = z_train_ds.dataset[:][0].std()\n",
    "\n",
    "# Normalize the targets\n",
    "train_targets_mean = z_train_ds.dataset[:][1].mean()\n",
    "train_targets_std = z_train_ds.dataset[:][1].std()\n",
    "\n",
    "# Create data loaders for the normalized training and validation datasets\n",
    "z_train_dl = DataLoader(z_train_ds, batch_size=32, shuffle=True)\n",
    "z_val_dl = DataLoader(z_val_ds, batch_size=32, shuffle=False)"
   ]
  },
  {
   "cell_type": "code",
   "execution_count": 32,
   "outputs": [
    {
     "data": {
      "text/plain": "Sequential(\n  (0): Linear(in_features=4, out_features=12, bias=True)\n  (1): ReLU()\n  (2): Linear(in_features=12, out_features=40, bias=True)\n  (3): ReLU()\n  (4): Linear(in_features=40, out_features=40, bias=True)\n  (5): ReLU()\n  (6): Linear(in_features=40, out_features=12, bias=True)\n  (7): ReLU()\n  (8): Linear(in_features=12, out_features=4, bias=True)\n)"
     },
     "execution_count": 32,
     "metadata": {},
     "output_type": "execute_result"
    }
   ],
   "source": [
    "conserved_model = nn.Sequential(\n",
    "    nn.Linear(4, 12),\n",
    "    nn.ReLU(),\n",
    "    nn.Linear(12, 40),\n",
    "    nn.ReLU(), \n",
    "    nn.Linear(40, 40),\n",
    "    nn.ReLU(),\n",
    "    nn.Linear(40, 12),\n",
    "    nn.ReLU(),\n",
    "    nn.Linear(12, 4)\n",
    ")\n",
    "\n",
    "conserved_model.to(config.device)"
   ],
   "metadata": {
    "collapsed": false,
    "ExecuteTime": {
     "end_time": "2024-05-05T19:29:31.226558900Z",
     "start_time": "2024-05-05T19:29:31.219895700Z"
    }
   },
   "id": "a1c5faefea80699e"
  },
  {
   "cell_type": "code",
   "execution_count": 56,
   "id": "787b33fba35baa69",
   "metadata": {
    "collapsed": false,
    "ExecuteTime": {
     "end_time": "2024-05-06T02:16:00.155214300Z",
     "start_time": "2024-05-06T02:15:22.614269Z"
    }
   },
   "outputs": [
    {
     "name": "stderr",
     "output_type": "stream",
     "text": [
      "  1%|          | 80/10000 [00:37<1:17:26,  2.13it/s, loss=0.455, val_loss=0.456]\n"
     ]
    },
    {
     "ename": "KeyboardInterrupt",
     "evalue": "",
     "output_type": "error",
     "traceback": [
      "\u001B[1;31m---------------------------------------------------------------------------\u001B[0m",
      "\u001B[1;31mKeyboardInterrupt\u001B[0m                         Traceback (most recent call last)",
      "Cell \u001B[1;32mIn[56], line 25\u001B[0m\n\u001B[0;32m     23\u001B[0m conserved_model\u001B[38;5;241m.\u001B[39meval()\n\u001B[0;32m     24\u001B[0m val_losses \u001B[38;5;241m=\u001B[39m []\n\u001B[1;32m---> 25\u001B[0m \u001B[38;5;28;01mfor\u001B[39;00m i, data \u001B[38;5;129;01min\u001B[39;00m \u001B[38;5;28menumerate\u001B[39m(z_val_dl):\n\u001B[0;32m     26\u001B[0m     x, y \u001B[38;5;241m=\u001B[39m data\n\u001B[0;32m     27\u001B[0m     x \u001B[38;5;241m=\u001B[39m (x \u001B[38;5;241m-\u001B[39m train_z_mean) \u001B[38;5;241m/\u001B[39m train_z_std\n",
      "File \u001B[1;32m~\\anaconda3\\envs\\ESE-5460_23\\Lib\\site-packages\\torch\\utils\\data\\dataloader.py:630\u001B[0m, in \u001B[0;36m_BaseDataLoaderIter.__next__\u001B[1;34m(self)\u001B[0m\n\u001B[0;32m    627\u001B[0m \u001B[38;5;28;01mif\u001B[39;00m \u001B[38;5;28mself\u001B[39m\u001B[38;5;241m.\u001B[39m_sampler_iter \u001B[38;5;129;01mis\u001B[39;00m \u001B[38;5;28;01mNone\u001B[39;00m:\n\u001B[0;32m    628\u001B[0m     \u001B[38;5;66;03m# TODO(https://github.com/pytorch/pytorch/issues/76750)\u001B[39;00m\n\u001B[0;32m    629\u001B[0m     \u001B[38;5;28mself\u001B[39m\u001B[38;5;241m.\u001B[39m_reset()  \u001B[38;5;66;03m# type: ignore[call-arg]\u001B[39;00m\n\u001B[1;32m--> 630\u001B[0m data \u001B[38;5;241m=\u001B[39m \u001B[38;5;28mself\u001B[39m\u001B[38;5;241m.\u001B[39m_next_data()\n\u001B[0;32m    631\u001B[0m \u001B[38;5;28mself\u001B[39m\u001B[38;5;241m.\u001B[39m_num_yielded \u001B[38;5;241m+\u001B[39m\u001B[38;5;241m=\u001B[39m \u001B[38;5;241m1\u001B[39m\n\u001B[0;32m    632\u001B[0m \u001B[38;5;28;01mif\u001B[39;00m \u001B[38;5;28mself\u001B[39m\u001B[38;5;241m.\u001B[39m_dataset_kind \u001B[38;5;241m==\u001B[39m _DatasetKind\u001B[38;5;241m.\u001B[39mIterable \u001B[38;5;129;01mand\u001B[39;00m \\\n\u001B[0;32m    633\u001B[0m         \u001B[38;5;28mself\u001B[39m\u001B[38;5;241m.\u001B[39m_IterableDataset_len_called \u001B[38;5;129;01mis\u001B[39;00m \u001B[38;5;129;01mnot\u001B[39;00m \u001B[38;5;28;01mNone\u001B[39;00m \u001B[38;5;129;01mand\u001B[39;00m \\\n\u001B[0;32m    634\u001B[0m         \u001B[38;5;28mself\u001B[39m\u001B[38;5;241m.\u001B[39m_num_yielded \u001B[38;5;241m>\u001B[39m \u001B[38;5;28mself\u001B[39m\u001B[38;5;241m.\u001B[39m_IterableDataset_len_called:\n",
      "File \u001B[1;32m~\\anaconda3\\envs\\ESE-5460_23\\Lib\\site-packages\\torch\\utils\\data\\dataloader.py:674\u001B[0m, in \u001B[0;36m_SingleProcessDataLoaderIter._next_data\u001B[1;34m(self)\u001B[0m\n\u001B[0;32m    672\u001B[0m \u001B[38;5;28;01mdef\u001B[39;00m \u001B[38;5;21m_next_data\u001B[39m(\u001B[38;5;28mself\u001B[39m):\n\u001B[0;32m    673\u001B[0m     index \u001B[38;5;241m=\u001B[39m \u001B[38;5;28mself\u001B[39m\u001B[38;5;241m.\u001B[39m_next_index()  \u001B[38;5;66;03m# may raise StopIteration\u001B[39;00m\n\u001B[1;32m--> 674\u001B[0m     data \u001B[38;5;241m=\u001B[39m \u001B[38;5;28mself\u001B[39m\u001B[38;5;241m.\u001B[39m_dataset_fetcher\u001B[38;5;241m.\u001B[39mfetch(index)  \u001B[38;5;66;03m# may raise StopIteration\u001B[39;00m\n\u001B[0;32m    675\u001B[0m     \u001B[38;5;28;01mif\u001B[39;00m \u001B[38;5;28mself\u001B[39m\u001B[38;5;241m.\u001B[39m_pin_memory:\n\u001B[0;32m    676\u001B[0m         data \u001B[38;5;241m=\u001B[39m _utils\u001B[38;5;241m.\u001B[39mpin_memory\u001B[38;5;241m.\u001B[39mpin_memory(data, \u001B[38;5;28mself\u001B[39m\u001B[38;5;241m.\u001B[39m_pin_memory_device)\n",
      "File \u001B[1;32m~\\anaconda3\\envs\\ESE-5460_23\\Lib\\site-packages\\torch\\utils\\data\\_utils\\fetch.py:54\u001B[0m, in \u001B[0;36m_MapDatasetFetcher.fetch\u001B[1;34m(self, possibly_batched_index)\u001B[0m\n\u001B[0;32m     52\u001B[0m \u001B[38;5;28;01melse\u001B[39;00m:\n\u001B[0;32m     53\u001B[0m     data \u001B[38;5;241m=\u001B[39m \u001B[38;5;28mself\u001B[39m\u001B[38;5;241m.\u001B[39mdataset[possibly_batched_index]\n\u001B[1;32m---> 54\u001B[0m \u001B[38;5;28;01mreturn\u001B[39;00m \u001B[38;5;28mself\u001B[39m\u001B[38;5;241m.\u001B[39mcollate_fn(data)\n",
      "File \u001B[1;32m~\\anaconda3\\envs\\ESE-5460_23\\Lib\\site-packages\\torch\\utils\\data\\_utils\\collate.py:265\u001B[0m, in \u001B[0;36mdefault_collate\u001B[1;34m(batch)\u001B[0m\n\u001B[0;32m    204\u001B[0m \u001B[38;5;28;01mdef\u001B[39;00m \u001B[38;5;21mdefault_collate\u001B[39m(batch):\n\u001B[0;32m    205\u001B[0m \u001B[38;5;250m    \u001B[39m\u001B[38;5;124mr\u001B[39m\u001B[38;5;124;03m\"\"\"\u001B[39;00m\n\u001B[0;32m    206\u001B[0m \u001B[38;5;124;03m        Function that takes in a batch of data and puts the elements within the batch\u001B[39;00m\n\u001B[0;32m    207\u001B[0m \u001B[38;5;124;03m        into a tensor with an additional outer dimension - batch size. The exact output type can be\u001B[39;00m\n\u001B[1;32m   (...)\u001B[0m\n\u001B[0;32m    263\u001B[0m \u001B[38;5;124;03m            >>> default_collate(batch)  # Handle `CustomType` automatically\u001B[39;00m\n\u001B[0;32m    264\u001B[0m \u001B[38;5;124;03m    \"\"\"\u001B[39;00m\n\u001B[1;32m--> 265\u001B[0m     \u001B[38;5;28;01mreturn\u001B[39;00m collate(batch, collate_fn_map\u001B[38;5;241m=\u001B[39mdefault_collate_fn_map)\n",
      "File \u001B[1;32m~\\anaconda3\\envs\\ESE-5460_23\\Lib\\site-packages\\torch\\utils\\data\\_utils\\collate.py:142\u001B[0m, in \u001B[0;36mcollate\u001B[1;34m(batch, collate_fn_map)\u001B[0m\n\u001B[0;32m    139\u001B[0m transposed \u001B[38;5;241m=\u001B[39m \u001B[38;5;28mlist\u001B[39m(\u001B[38;5;28mzip\u001B[39m(\u001B[38;5;241m*\u001B[39mbatch))  \u001B[38;5;66;03m# It may be accessed twice, so we use a list.\u001B[39;00m\n\u001B[0;32m    141\u001B[0m \u001B[38;5;28;01mif\u001B[39;00m \u001B[38;5;28misinstance\u001B[39m(elem, \u001B[38;5;28mtuple\u001B[39m):\n\u001B[1;32m--> 142\u001B[0m     \u001B[38;5;28;01mreturn\u001B[39;00m [collate(samples, collate_fn_map\u001B[38;5;241m=\u001B[39mcollate_fn_map) \u001B[38;5;28;01mfor\u001B[39;00m samples \u001B[38;5;129;01min\u001B[39;00m transposed]  \u001B[38;5;66;03m# Backwards compatibility.\u001B[39;00m\n\u001B[0;32m    143\u001B[0m \u001B[38;5;28;01melse\u001B[39;00m:\n\u001B[0;32m    144\u001B[0m     \u001B[38;5;28;01mtry\u001B[39;00m:\n",
      "File \u001B[1;32m~\\anaconda3\\envs\\ESE-5460_23\\Lib\\site-packages\\torch\\utils\\data\\_utils\\collate.py:142\u001B[0m, in \u001B[0;36m<listcomp>\u001B[1;34m(.0)\u001B[0m\n\u001B[0;32m    139\u001B[0m transposed \u001B[38;5;241m=\u001B[39m \u001B[38;5;28mlist\u001B[39m(\u001B[38;5;28mzip\u001B[39m(\u001B[38;5;241m*\u001B[39mbatch))  \u001B[38;5;66;03m# It may be accessed twice, so we use a list.\u001B[39;00m\n\u001B[0;32m    141\u001B[0m \u001B[38;5;28;01mif\u001B[39;00m \u001B[38;5;28misinstance\u001B[39m(elem, \u001B[38;5;28mtuple\u001B[39m):\n\u001B[1;32m--> 142\u001B[0m     \u001B[38;5;28;01mreturn\u001B[39;00m [collate(samples, collate_fn_map\u001B[38;5;241m=\u001B[39mcollate_fn_map) \u001B[38;5;28;01mfor\u001B[39;00m samples \u001B[38;5;129;01min\u001B[39;00m transposed]  \u001B[38;5;66;03m# Backwards compatibility.\u001B[39;00m\n\u001B[0;32m    143\u001B[0m \u001B[38;5;28;01melse\u001B[39;00m:\n\u001B[0;32m    144\u001B[0m     \u001B[38;5;28;01mtry\u001B[39;00m:\n",
      "File \u001B[1;32m~\\anaconda3\\envs\\ESE-5460_23\\Lib\\site-packages\\torch\\utils\\data\\_utils\\collate.py:119\u001B[0m, in \u001B[0;36mcollate\u001B[1;34m(batch, collate_fn_map)\u001B[0m\n\u001B[0;32m    117\u001B[0m \u001B[38;5;28;01mif\u001B[39;00m collate_fn_map \u001B[38;5;129;01mis\u001B[39;00m \u001B[38;5;129;01mnot\u001B[39;00m \u001B[38;5;28;01mNone\u001B[39;00m:\n\u001B[0;32m    118\u001B[0m     \u001B[38;5;28;01mif\u001B[39;00m elem_type \u001B[38;5;129;01min\u001B[39;00m collate_fn_map:\n\u001B[1;32m--> 119\u001B[0m         \u001B[38;5;28;01mreturn\u001B[39;00m collate_fn_map[elem_type](batch, collate_fn_map\u001B[38;5;241m=\u001B[39mcollate_fn_map)\n\u001B[0;32m    121\u001B[0m     \u001B[38;5;28;01mfor\u001B[39;00m collate_type \u001B[38;5;129;01min\u001B[39;00m collate_fn_map:\n\u001B[0;32m    122\u001B[0m         \u001B[38;5;28;01mif\u001B[39;00m \u001B[38;5;28misinstance\u001B[39m(elem, collate_type):\n",
      "File \u001B[1;32m~\\anaconda3\\envs\\ESE-5460_23\\Lib\\site-packages\\torch\\utils\\data\\_utils\\collate.py:162\u001B[0m, in \u001B[0;36mcollate_tensor_fn\u001B[1;34m(batch, collate_fn_map)\u001B[0m\n\u001B[0;32m    160\u001B[0m     storage \u001B[38;5;241m=\u001B[39m elem\u001B[38;5;241m.\u001B[39m_typed_storage()\u001B[38;5;241m.\u001B[39m_new_shared(numel, device\u001B[38;5;241m=\u001B[39melem\u001B[38;5;241m.\u001B[39mdevice)\n\u001B[0;32m    161\u001B[0m     out \u001B[38;5;241m=\u001B[39m elem\u001B[38;5;241m.\u001B[39mnew(storage)\u001B[38;5;241m.\u001B[39mresize_(\u001B[38;5;28mlen\u001B[39m(batch), \u001B[38;5;241m*\u001B[39m\u001B[38;5;28mlist\u001B[39m(elem\u001B[38;5;241m.\u001B[39msize()))\n\u001B[1;32m--> 162\u001B[0m \u001B[38;5;28;01mreturn\u001B[39;00m torch\u001B[38;5;241m.\u001B[39mstack(batch, \u001B[38;5;241m0\u001B[39m, out\u001B[38;5;241m=\u001B[39mout)\n",
      "\u001B[1;31mKeyboardInterrupt\u001B[0m: "
     ]
    }
   ],
   "source": [
    "#training loop\n",
    "conserved_model.train()\n",
    "conserved_optimizer = optim.Adam(conserved_model.parameters(), lr=0.01)\n",
    "conserved_losses = []\n",
    "conserved_val_losses = []\n",
    "pbar = tqdm(range(10000))\n",
    "for epoch in pbar:\n",
    "    ep_losses = []\n",
    "    for i, data in enumerate(z_train_dl):\n",
    "        x, y = data\n",
    "        x = (x - train_z_mean) / train_z_std\n",
    "        y = (y - train_targets_mean) / train_targets_std\n",
    "        y_hat = conserved_model(random)\n",
    "        loss = torch.mean((y_hat - y)**2)\n",
    "        conserved_optimizer.zero_grad()\n",
    "        loss.backward()\n",
    "        conserved_optimizer.step()\n",
    "        ep_losses.append(loss.clone().item())\n",
    "    conserved_losses.append(np.mean(ep_losses))\n",
    "    \n",
    "    if epoch % 10 == 0:\n",
    "        conserved_model.eval()\n",
    "        val_losses = []\n",
    "        for i, data in enumerate(z_val_dl):\n",
    "            x, y = data\n",
    "            x = (x - train_z_mean) / train_z_std\n",
    "            y = (y - train_targets_mean) / train_targets_std\n",
    "            y_hat = conserved_model(x)\n",
    "            loss = torch.mean((y_hat - y)**2)\n",
    "            val_losses.append(loss.clone().item())\n",
    "        conserved_val_losses.append(np.mean(val_losses))\n",
    "    pbar.set_postfix({'loss': conserved_losses[-1], 'val_loss': conserved_val_losses[-1]})\n"
   ]
  },
  {
   "cell_type": "code",
   "execution_count": 60,
   "outputs": [
    {
     "data": {
      "text/plain": "<Figure size 640x480 with 1 Axes>",
      "image/png": "[encoded data removed]"
     },
     "metadata": {},
     "output_type": "display_data"
    }
   ],
   "source": [
    "epochs = range(0, 10000, 10)\n",
    "plt.plot(epochs, conserved_losses[::10], label='Training Loss')\n",
    "plt.plot(epochs, conserved_val_losses, label='Validation Loss')\n",
    "plt.xlabel('Epochs')\n",
    "plt.ylabel('Loss')\n",
    "plt.legend()\n",
    "plt.show()"
   ],
   "metadata": {
    "collapsed": false,
    "ExecuteTime": {
     "end_time": "2024-05-05T14:09:19.384847800Z",
     "start_time": "2024-05-05T14:09:19.319665400Z"
    }
   },
   "id": "93c108863bf86c7f"
  },
  {
   "cell_type": "code",
   "execution_count": 58,
   "outputs": [
    {
     "data": {
      "text/plain": "1000"
     },
     "execution_count": 58,
     "metadata": {},
     "output_type": "execute_result"
    }
   ],
   "source": [
    "len(conserved_losses[::10])"
   ],
   "metadata": {
    "collapsed": false,
    "ExecuteTime": {
     "end_time": "2024-05-05T14:08:13.946904900Z",
     "start_time": "2024-05-05T14:08:13.930705800Z"
    }
   },
   "id": "7a125f57fcce5c26"
  },
  {
   "cell_type": "code",
   "execution_count": null,
   "outputs": [],
   "source": [],
   "metadata": {
    "collapsed": false
   },
   "id": "f6626314593e3734"
  }
 ],
 "metadata": {
  "kernelspec": {
   "display_name": "Python 3 (ipykernel)",
   "language": "python",
   "name": "python3"
  },
  "language_info": {
   "codemirror_mode": {
    "name": "ipython",
    "version": 3
   },
   "file_extension": ".py",
   "mimetype": "text/x-python",
   "name": "python",
   "nbconvert_exporter": "python",
   "pygments_lexer": "ipython3",
   "version": "3.10.13"
  }
 },
 "nbformat": 4,
 "nbformat_minor": 5
}
