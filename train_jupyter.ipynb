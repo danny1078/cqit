{
 "cells": [
  {
   "cell_type": "code",
   "execution_count": 1,
   "id": "initial_id",
   "metadata": {
    "ExecuteTime": {
     "end_time": "2024-05-02T21:27:07.001628500Z",
     "start_time": "2024-05-02T21:27:05.592858300Z"
    },
    "collapsed": true
   },
   "outputs": [],
   "source": [
    "import torch\n",
    "import numpy as np\n",
    "\n",
    "from torch import nn\n",
    "\n",
    "from torch.utils.data import DataLoader, TensorDataset\n",
    "\n",
    "import torch.optim as optim\n",
    "\n",
    "from einops import rearrange\n",
    "from tqdm import tqdm\n",
    "\n",
    "from dataclasses import dataclass\n",
    "from generate_mass_spring_data import generate_mass_spring_data\n",
    "from loss import compute_mmd\n",
    "\n",
    "from matplotlib import pyplot as plt\n",
    "\n",
    "from sklearn.feature_selection import mutual_info_regression"
   ]
  },
  {
   "cell_type": "code",
   "execution_count": 2,
   "id": "8dd7375132486c16",
   "metadata": {
    "ExecuteTime": {
     "end_time": "2024-05-01T22:40:16.960786Z",
     "start_time": "2024-05-01T22:40:16.955553Z"
    },
    "collapsed": false,
    "metadata": {}
   },
   "outputs": [],
   "source": [
    "@dataclass\n",
    "class TrainConfig:\n",
    "    num_epochs: int\n",
    "    batch_size: int\n",
    "    learning_rate: float\n",
    "    device: str\n",
    "    model: torch.nn.Module\n",
    "    optimizer: optim.Optimizer \n",
    "    train_loader: DataLoader\n",
    "    val_loader: DataLoader"
   ]
  },
  {
   "cell_type": "code",
   "execution_count": 3,
   "id": "1a2544bc2729ad6c",
   "metadata": {
    "ExecuteTime": {
     "end_time": "2024-05-01T22:40:26.117876Z",
     "start_time": "2024-05-01T22:40:26.111859Z"
    },
    "collapsed": false,
    "metadata": {}
   },
   "outputs": [],
   "source": [
    "def get_data_loaders(n_points: int, arr_size: int, batch_size: int = 32):\n",
    "    # set torch seed\n",
    "    torch.manual_seed(0)\n",
    "    samples = torch.zeros((arr_size, n_points, 2))\n",
    "    for i in range(arr_size):\n",
    "        low = 1\n",
    "        high = 10\n",
    "        m, k = 1, 1\n",
    "        v0, x0 =  torch.randint(low, high, (2,))\n",
    "        samples[i] = rearrange(torch.stack(generate_mass_spring_data(torch.tensor(m), torch.tensor(k), v0, x0, 0.1, n_points)), ' c b -> b c')\n",
    "    dataset = TensorDataset(samples)\n",
    "    train_ds, val_ds = torch.utils.data.random_split(dataset, [int(0.8*len(dataset)), int(0.2*len(dataset))])\n",
    "    return DataLoader(train_ds, batch_size=batch_size), DataLoader(val_ds, batch_size=batch_size)"
   ]
  },
  {
   "cell_type": "code",
   "execution_count": 4,
   "id": "bc869dc1a5210195",
   "metadata": {
    "ExecuteTime": {
     "end_time": "2024-05-01T22:40:26.757461Z",
     "start_time": "2024-05-01T22:40:26.477739Z"
    },
    "collapsed": false,
    "metadata": {}
   },
   "outputs": [
    {
     "name": "stderr",
     "output_type": "stream",
     "text": [
      "/Users/mohula/Documents/GitHub/cqit/generate_mass_spring_data.py:5: UserWarning: To copy construct from a tensor, it is recommended to use sourceTensor.clone().detach() or sourceTensor.clone().detach().requires_grad_(True), rather than torch.tensor(sourceTensor).\n",
      "  w = torch.sqrt(torch.tensor(k/m))\n"
     ]
    }
   ],
   "source": [
    "train_dl, val_dl = get_data_loaders(100, 1000)"
   ]
  },
  {
   "cell_type": "code",
   "execution_count": 5,
   "id": "27fd927c8db12f28",
   "metadata": {
    "ExecuteTime": {
     "end_time": "2024-05-01T22:43:27.803634Z",
     "start_time": "2024-05-01T22:43:27.798857Z"
    },
    "collapsed": false,
    "metadata": {}
   },
   "outputs": [
    {
     "name": "stdout",
     "output_type": "stream",
     "text": [
      "torch.Size([32, 100, 2])\n"
     ]
    }
   ],
   "source": [
    "#check dimensions\n",
    "for i, data in enumerate(train_dl):\n",
    "    print(data[0].shape)\n",
    "    break"
   ]
  },
  {
   "cell_type": "code",
   "execution_count": 7,
   "id": "f2b6e28cc20d9f7c",
   "metadata": {
    "ExecuteTime": {
     "end_time": "2024-05-01T22:43:28.238639Z",
     "start_time": "2024-05-01T22:43:28.232041Z"
    },
    "collapsed": false,
    "metadata": {}
   },
   "outputs": [],
   "source": [
    "def train(config: TrainConfig):\n",
    "    losses = []\n",
    "    conservation_losses = []\n",
    "    reconstruction_losses = []\n",
    "    pbar = tqdm(range(config.num_epochs))\n",
    "    for epoch in pbar:\n",
    "        ep_losses = []\n",
    "        ep_conservation_losses = []\n",
    "        ep_reconstruction_losses = []\n",
    "        config.model.train()\n",
    "\n",
    "        for i, data in enumerate(config.train_loader):\n",
    "            orig_data = data[0].to(config.device)\n",
    "            b = orig_data.shape[0]\n",
    "            formatted_data = rearrange(data[0], 'b s c -> (b s) c')\n",
    "            data = formatted_data\n",
    "            encoder, decoder = config.model\n",
    "            z = encoder(data)\n",
    "            yhat = decoder(z)\n",
    "            z_rearr = rearrange(z, '(b s) c -> b s c', b=b)\n",
    "            z_0 = z_rearr[:, 0, :]\n",
    "            # calculate the difference between z at each time step and z at time step 0\n",
    "            z_diff = z_rearr - z_0[:, None, :]\n",
    "            # calculate the conservation loss as mse\n",
    "            conservation_loss = torch.mean(z_diff**2)\n",
    "            \n",
    "            #variance reconstruction loss\n",
    "            yhat_rearr = rearrange(yhat, '(b s) c -> b s c', b=b)\n",
    "            yhat_std = yhat_rearr.std(dim=1)\n",
    "            data_std = orig_data.std(dim=1)\n",
    "         \n",
    "            #if i % 100 == 0:\n",
    "            #    print(data_std[0], yhat_std[0])\n",
    "            reconstruction_loss = torch.mean((yhat_std - data_std)**2)\n",
    "            #reconstruction_loss = torch.mean((yhat - orig_data)**2)\n",
    "\n",
    "            loss = reconstruction_loss + conservation_loss\n",
    "            config.optimizer.zero_grad()\n",
    "            loss.backward(retain_graph=True)\n",
    "            ep_losses.append(loss.clone().item())\n",
    "            ep_conservation_losses.append(conservation_loss.clone().item())\n",
    "            ep_reconstruction_losses.append(reconstruction_loss.clone().item())\n",
    "            config.optimizer.step()\n",
    "        config.model.eval()\n",
    "        losses.append(np.mean(ep_losses))\n",
    "        conservation_losses.append(np.mean(ep_conservation_losses))\n",
    "        reconstruction_losses.append(np.mean(ep_reconstruction_losses))\n",
    "        # update progress bar\n",
    "        pbar.set_postfix({'loss': losses[-1], 'conservation_loss': conservation_losses[-1], 'reconstruction_loss': reconstruction_losses[-1]})\n",
    "    return config.model, losses, conservation_losses, reconstruction_losses"
   ]
  },
  {
   "cell_type": "code",
   "execution_count": 8,
   "id": "ea4fe2d763b7033d",
   "metadata": {
    "ExecuteTime": {
     "end_time": "2024-05-01T22:43:42.721070Z",
     "start_time": "2024-05-01T22:43:42.694918Z"
    },
    "collapsed": false,
    "metadata": {}
   },
   "outputs": [],
   "source": [
    "encoder = nn.Sequential(\n",
    "    nn.Linear(2, 10),\n",
    "    nn.Sigmoid(),\n",
    "    nn.Linear(10, 2),\n",
    "    nn.Sigmoid(),\n",
    "    nn.Linear(2, 1)\n",
    ")\n",
    "\n",
    "decoder = nn.Sequential(\n",
    "    nn.Linear(1, 2),\n",
    "    nn.ReLU(),\n",
    "    nn.Linear(2, 5),\n",
    "    nn.ReLU(),\n",
    "    nn.Linear(5, 2)\n",
    ")\n",
    "\n",
    "model = nn.Sequential(encoder, decoder)\n",
    "\n",
    "train_loader, val_loader = get_data_loaders(1000, arr_size=100, batch_size=32)\n",
    "\n",
    "config = TrainConfig(\n",
    "    num_epochs=5000,\n",
    "    batch_size=32,\n",
    "    learning_rate=0.001,\n",
    "    device='cpu',\n",
    "    model=model,\n",
    "    optimizer=optim.Adam(model.parameters(), lr=0.001, weight_decay=1e-5),\n",
    "    train_loader=train_loader,\n",
    "    val_loader=val_loader,\n",
    ")"
   ]
  },
  {
   "cell_type": "code",
   "execution_count": 9,
   "id": "c854e992aad76083",
   "metadata": {
    "ExecuteTime": {
     "end_time": "2024-05-01T22:45:22.384837Z",
     "start_time": "2024-05-01T22:43:43.630398Z"
    },
    "collapsed": false,
    "metadata": {}
   },
   "outputs": [
    {
     "name": "stderr",
     "output_type": "stream",
     "text": [
      "100%|██████████| 5000/5000 [01:15<00:00, 66.59it/s, loss=0.00236, conservation_loss=0.00227, reconstruction_loss=9.37e-5] \n"
     ]
    }
   ],
   "source": [
    "model, loss, conservation_loss, reconstruction_loss = train(config)"
   ]
  },
  {
   "cell_type": "code",
   "execution_count": 10,
   "id": "10dc938f57df7998",
   "metadata": {
    "ExecuteTime": {
     "end_time": "2024-05-01T22:48:08.562971Z",
     "start_time": "2024-05-01T22:48:08.555295Z"
    },
    "collapsed": false,
    "metadata": {}
   },
   "outputs": [],
   "source": [
    "def evaluate_model(model, data_loader):\n",
    "    model = model.eval()\n",
    "    losses = []\n",
    "    conservation_losses = []\n",
    "    reconstruction_losses = []\n",
    "    for i, data in enumerate(data_loader):\n",
    "        orig_data = data[0].to(config.device)\n",
    "        b = orig_data.shape[0]\n",
    "        formatted_data = rearrange(data[0], 'b s c -> (b s) c')\n",
    "        data = formatted_data\n",
    "        encoder, decoder = model\n",
    "        z = encoder(data)\n",
    "        yhat = decoder(z)\n",
    "        z_rearr = rearrange(z, '(b s) c -> b s c', b=b)\n",
    "        z_0 = z_rearr[:, 0, :]\n",
    "        # calculate the difference between z at each time step and z at time step 0\n",
    "        z_diff = z_rearr - z_0[:, None, :]\n",
    "        # calculate the conservation loss as mse\n",
    "        conservation_loss = torch.mean(z_diff**2)\n",
    "        \n",
    "        #variance reconstruction loss\n",
    "        yhat_rearr = rearrange(yhat, '(b s) c -> b s c', b=b)\n",
    "        yhat_std = yhat_rearr.std(dim=1)\n",
    "        data_std = orig_data.std(dim=1)\n",
    "     \n",
    "        #if i % 100 == 0:\n",
    "        #    print(data_std[0], yhat_std[0])\n",
    "        reconstruction_loss = torch.mean((yhat_std - data_std)**2)\n",
    "        #reconstruction_loss = torch.mean((yhat - orig_data)**2)\n",
    "\n",
    "        loss = reconstruction_loss + 0.2 * conservation_loss\n",
    "        losses.append(loss.clone().item())\n",
    "        conservation_losses.append(conservation_loss.clone().item())\n",
    "        reconstruction_losses.append(reconstruction_loss.clone().item())\n",
    "    return np.mean(losses), np.mean(conservation_losses), np.mean(reconstruction_losses)"
   ]
  },
  {
   "cell_type": "code",
   "execution_count": 11,
   "id": "fe557f057ab51a58",
   "metadata": {
    "ExecuteTime": {
     "end_time": "2024-05-01T22:48:09.619153Z",
     "start_time": "2024-05-01T22:48:09.604972Z"
    },
    "collapsed": false,
    "metadata": {}
   },
   "outputs": [],
   "source": [
    "test_loss, test_conservation_loss, test_reconstruction_loss = evaluate_model(model, val_loader)"
   ]
  },
  {
   "cell_type": "code",
   "execution_count": 12,
   "id": "300e6a0d65aa6003",
   "metadata": {
    "ExecuteTime": {
     "end_time": "2024-05-01T22:48:10.093406Z",
     "start_time": "2024-05-01T22:48:10.090629Z"
    },
    "collapsed": false,
    "metadata": {}
   },
   "outputs": [
    {
     "name": "stdout",
     "output_type": "stream",
     "text": [
      "0.0004908194532617927 0.0020627884659916162 7.826174987712875e-05\n"
     ]
    }
   ],
   "source": [
    "print(test_loss, test_conservation_loss, test_reconstruction_loss)"
   ]
  },
  {
   "cell_type": "code",
   "execution_count": 13,
   "id": "f3fc920555c8bba4",
   "metadata": {
    "ExecuteTime": {
     "end_time": "2024-05-01T22:48:11.810685Z",
     "start_time": "2024-05-01T22:48:11.690029Z"
    },
    "collapsed": false,
    "metadata": {}
   },
   "outputs": [
    {
     "data": {
      "image/png": "[encoded data removed]",
      "text/plain": [
       "<Figure size 640x480 with 1 Axes>"
      ]
     },
     "metadata": {},
     "output_type": "display_data"
    }
   ],
   "source": [
    "model = model.eval()\n",
    "v_test = 5 * torch.ones((100,1))\n",
    "x_test = rearrange(torch.linspace(-10, 10, 100), 'b -> b 1')\n",
    "test = rearrange(torch.stack((x_test, v_test)), 'c b a -> b (c a)')\n",
    "zs = model[0](test)\n",
    "plt.plot(x_test, zs.detach().numpy(), label='z')\n",
    "#set y limit\n",
    "plt.legend()\n",
    "plt.show()"
   ]
  },
  {
   "cell_type": "code",
   "execution_count": 14,
   "id": "4f30a321b733abcc",
   "metadata": {
    "ExecuteTime": {
     "end_time": "2024-05-01T22:48:14.175244Z",
     "start_time": "2024-05-01T22:48:14.084371Z"
    },
    "collapsed": false,
    "metadata": {}
   },
   "outputs": [
    {
     "data": {
      "image/png": "[encoded data removed]",
      "text/plain": [
       "<Figure size 640x480 with 1 Axes>"
      ]
     },
     "metadata": {},
     "output_type": "display_data"
    }
   ],
   "source": [
    "model = model.eval()\n",
    "x_test = torch.ones((100,1))\n",
    "v_test = rearrange(torch.linspace(-10, 10, 100), 'b -> b 1')\n",
    "test = rearrange(torch.stack((x_test, v_test)), 'c b a -> b (c a)')\n",
    "zs = model[0](test)\n",
    "plt.plot(v_test, zs.detach().numpy(), label='z')\n",
    "#set y limit\n",
    "plt.legend()\n",
    "plt.show()"
   ]
  },
  {
   "cell_type": "code",
   "execution_count": 15,
   "id": "56b9dd10581a3e24",
   "metadata": {
    "ExecuteTime": {
     "end_time": "2024-05-01T22:59:31.793371Z",
     "start_time": "2024-05-01T22:59:31.718276Z"
    },
    "collapsed": false,
    "metadata": {}
   },
   "outputs": [
    {
     "data": {
      "image/png": "[encoded data removed]",
      "text/plain": [
       "<Figure size 640x480 with 1 Axes>"
      ]
     },
     "metadata": {},
     "output_type": "display_data"
    }
   ],
   "source": [
    "model = model.eval()\n",
    "x_test = torch.ones((100,1))\n",
    "v_test = rearrange(torch.linspace(4, 10, 100), 'b -> b 1')\n",
    "energy = 0.5 * v_test**2 + 0.5 * x_test**2\n",
    "test = rearrange(torch.stack((x_test, v_test)), 'c b a -> b (c a)')\n",
    "zs = model[0](test)\n",
    "plt.plot(energy, zs.detach().numpy(), label='z')\n",
    "plt.show()"
   ]
  },
  {
   "cell_type": "code",
   "execution_count": 23,
   "id": "f444031f",
   "metadata": {
    "metadata": {}
   },
   "outputs": [
    {
     "name": "stderr",
     "output_type": "stream",
     "text": [
      "/opt/homebrew/lib/python3.11/site-packages/sklearn/utils/validation.py:1143: DataConversionWarning: A column-vector y was passed when a 1d array was expected. Please change the shape of y to (n_samples, ), for example using ravel().\n",
      "  y = column_or_1d(y, warn=True)\n"
     ]
    },
    {
     "data": {
      "text/plain": [
       "array([3.14154418])"
      ]
     },
     "execution_count": 23,
     "metadata": {},
     "output_type": "execute_result"
    }
   ],
   "source": [
    "#Evaluate Mutual Info in 1-D Case\n",
    "model = model.eval()\n",
    "x_test = torch.ones((100,1))\n",
    "v_test = rearrange(torch.linspace(4, 10, 100), 'b -> b 1')\n",
    "energy = 0.5 * v_test**2 + 0.5 * x_test**2\n",
    "test = rearrange(torch.stack((x_test, v_test)), 'c b a -> b (c a)')\n",
    "zs = model[0](test)\n",
    "\n",
    "\n",
    "mutual_info_regression(energy.detach().numpy(),zs.detach().numpy())"
   ]
  }
 ],
 "metadata": {
  "kernelspec": {
   "display_name": "Python 3",
   "language": "python",
   "name": "python3"
  },
  "language_info": {
   "codemirror_mode": {
    "name": "ipython",
    "version": 3
   },
   "file_extension": ".py",
   "mimetype": "text/x-python",
   "name": "python",
   "nbconvert_exporter": "python",
   "pygments_lexer": "ipython3",
   "version": "3.11.6"
  }
 },
 "nbformat": 4,
 "nbformat_minor": 5
}
